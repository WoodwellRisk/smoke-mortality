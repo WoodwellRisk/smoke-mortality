{
 "cells": [
  {
   "cell_type": "markdown",
   "metadata": {},
   "source": [
    "# Smoke Mortality Analysis\n",
    "\n",
    "This notebook analyzes the impact of wildfire smoke on mortality rates globally. It compares baseline PM2.5 concentrations with no-fire scenarios to estimate the number of deaths attributable to wildfire smoke.\n",
    "\n",
    "## Data Requirements\n",
    "\n",
    "This notebook requires the following data files in the `./data/` directory:\n",
    "- PM2.5 concentration files:\n",
    "  - `CESM_09x125_PM25_2050_RCP85.nc`: Baseline PM2.5 concentrations for 2050\n",
    "  - `CESM_09x125_PM25_2050_RCP85_NoFire.nc`: No-fire PM2.5 concentrations for 2050\n",
    "  - `CESM_09x125_PM25_2000_Baseline.nc`: Baseline PM2.5 concentrations for 2000\n",
    "  - `CESM_09x125_PM25_2000_BaseLine_NoFire.nc`: No-fire PM2.5 concentrations for 2000\n",
    "  - `CESM_09x125_PM25_2100_RCP85.nc`: Baseline PM2.5 concentrations for 2100\n",
    "  - `CESM_09x125_PM25_2100_RCP85_NoFire.nc`: No-fire PM2.5 concentrations for 2100\n",
    "- `death_rate.nc`: Death rates by location (output from country_process_github.ipynb)\n",
    "- Population projection files:\n",
    "  - `ssp2_2000_matching.nc`: Population projections for 2000\n",
    "  - `ssp2_2050_matching.nc`: Population projections for 2050\n",
    "  - `ssp2_2100_matching.nc`: Population projections for 2100\n",
    "- Natural Earth shapefiles for country boundaries\n",
    "\n",
    "The notebook will output CSV files with smoke-related mortality estimates by country."
   ]
  },
  {
   "cell_type": "code",
   "execution_count": 1,
   "metadata": {},
   "outputs": [],
   "source": [
    "import cartopy.crs as ccrs\n",
    "import cartopy.feature as cfeature\n",
    "import xarray as xr\n",
    "import matplotlib.pyplot as plt\n",
    "import numpy as np\n",
    "import os\n",
    "import sys\n",
    "import cartopy.io.shapereader as shpreader\n",
    "from shapely.geometry.polygon import Polygon\n",
    "from shapely.geometry import shape\n",
    "import pandas as pd\n",
    "from shapely.geometry import Point, Polygon\n",
    "from cartopy.io.shapereader import Reader\n",
    "from rapidfuzz import process\n",
    "import matplotlib.colors as mcolors"
   ]
  },
  {
   "cell_type": "markdown",
   "metadata": {},
   "source": [
    "## Setup Data Directory\n",
    "\n",
    "Check if the data directory exists and contains required files."
   ]
  },
  {
   "cell_type": "code",
   "execution_count": 2,
   "metadata": {},
   "outputs": [],
   "source": [
    "# Define the data directory relative to the notebook location\n",
    "data_dir = './smoke_data'\n",
    "\n",
    "# Check if data directory exists\n",
    "if not os.path.exists(data_dir):\n",
    "    print(f\"Error: Data directory '{data_dir}' not found.\")\n",
    "    print(\"Please create a 'data' directory in the same location as this notebook and add the required data files.\")\n",
    "    required_files = [\n",
    "        'CESM_09x125_PM25_2050_RCP85.nc',\n",
    "        'CESM_09x125_PM25_2050_RCP85_NoFire.nc',\n",
    "        'CESM_09x125_PM25_2000_Baseline.nc',\n",
    "        'CESM_09x125_PM25_2000_BaseLine_NoFire.nc',\n",
    "        'CESM_09x125_PM25_2100_RCP85.nc',\n",
    "        'CESM_09x125_PM25_2100_RCP85_NoFire.nc',\n",
    "        'death_rate.nc',\n",
    "        'ssp2_2000_matching.nc',\n",
    "        'ssp2_2050_matching.nc',\n",
    "        'ssp2_2100_matching.nc'\n",
    "    ]\n",
    "    print(f\"Required files: {', '.join(required_files)}\")\n",
    "    # Uncomment the line below if you want the notebook to stop execution when data is missing\n",
    "    # sys.exit(1)"
   ]
  },
  {
   "cell_type": "markdown",
   "metadata": {},
   "source": [
    "## Helper Functions\n",
    "\n",
    "Define utility functions for data processing and visualization."
   ]
  },
  {
   "cell_type": "code",
   "execution_count": 3,
   "metadata": {},
   "outputs": [],
   "source": [
    "def fix_lon(ds):\n",
    "    \"\"\"Adjust longitude values to ensure they are within (-180, 180) range.\n",
    "    \n",
    "    Parameters:\n",
    "        ds (xarray.Dataset): Dataset with longitude coordinates\n",
    "        \n",
    "    Returns:\n",
    "        xarray.Dataset: Dataset with adjusted longitude coordinates\n",
    "    \"\"\"\n",
    "    lon_name = 'lon'  # whatever name is in the data\n",
    "\n",
    "    # Adjust lon values to make sure they are within (-180, 180)\n",
    "    ds['_longitude_adjusted'] = xr.where(\n",
    "        ds[lon_name] > 180,\n",
    "        ds[lon_name] - 360,\n",
    "        ds[lon_name])\n",
    "\n",
    "    # reassign the new coords to as the main lon coords\n",
    "    # and sort DataArray using new coordinate values\n",
    "    ds = (\n",
    "        ds\n",
    "        .swap_dims({lon_name: '_longitude_adjusted'})\n",
    "        .sel(**{'_longitude_adjusted': sorted(ds._longitude_adjusted)})\n",
    "        .drop(lon_name))\n",
    "\n",
    "    ds = ds.rename({'_longitude_adjusted': lon_name})\n",
    "    return ds"
   ]
  },
  {
   "cell_type": "code",
   "execution_count": 4,
   "metadata": {},
   "outputs": [],
   "source": [
    "def global_pcolormesh_country_borders(\n",
    "    ds,\n",
    "    title=None,\n",
    "    cmap='Reds',\n",
    "    cbar_label=None,\n",
    "    cbar_ticks=None,\n",
    "    cbar_ticklabels=None,\n",
    "    cbar_orientation='vertical',\n",
    "    vmin=None,\n",
    "    vmax=None,\n",
    "    bounds=None,\n",
    "    colors=None,\n",
    "    figsize=(10, 5),\n",
    "):\n",
    "    \"\"\"\n",
    "    Create a global pcolormesh plot with country borders.\n",
    "    \n",
    "    Parameters:\n",
    "        ds (xarray.Dataset): The dataset containing the variable to plot.\n",
    "        title (str): Title of the plot.\n",
    "        cmap (str): Colormap to use.\n",
    "        cbar_label (str): Label for the colorbar.\n",
    "        cbar_ticks (list): Ticks for the colorbar.\n",
    "        cbar_ticklabels (list): Tick labels for the colorbar.\n",
    "        cbar_orientation (str): Orientation of the colorbar ('vertical' or 'horizontal').\n",
    "        vmin (float): Minimum value for colormap scaling.\n",
    "        vmax (float): Maximum value for colormap scaling.\n",
    "        bounds (list): Boundaries for discrete colormap.\n",
    "        colors (list): Colors for discrete colormap.\n",
    "        figsize (tuple): Size of the figure.\n",
    "    \n",
    "    Returns:\n",
    "        None\n",
    "    \"\"\"\n",
    "    temp_ds = ds.copy()\n",
    "    \n",
    "    fig, ax = plt.subplots(figsize=figsize, subplot_kw={'projection': ccrs.PlateCarree()})\n",
    "\n",
    "    if bounds is not None:\n",
    "        norm = mcolors.BoundaryNorm(bounds, len(colors))\n",
    "        cmap=mcolors.ListedColormap(colors)\n",
    "        p = temp_ds.plot(\n",
    "            ax=ax,\n",
    "            transform=ccrs.PlateCarree(),\n",
    "            cmap=cmap,\n",
    "            norm=norm,\n",
    "            add_colorbar=False\n",
    "        )\n",
    "    else:\n",
    "        # Plotting the data\n",
    "        p = temp_ds.plot(\n",
    "            ax=ax,\n",
    "            transform=ccrs.PlateCarree(),\n",
    "            cmap=cmap,\n",
    "            vmin=vmin,\n",
    "            vmax=vmax,\n",
    "            add_colorbar=False\n",
    "        )\n",
    "        \n",
    "    # Adding country borders\n",
    "    ax.coastlines()\n",
    "    ax.add_feature(cfeature.BORDERS, linestyle='-', edgecolor='black', linewidth=0.5)\n",
    "\n",
    "    # Adding title\n",
    "    if title:\n",
    "        plt.title(title)\n",
    "    \n",
    "    # Adding colorbar\n",
    "    if cbar_label:\n",
    "        cbar = plt.colorbar(p, ax=ax, orientation=cbar_orientation)\n",
    "        cbar.set_label(cbar_label)\n",
    "        \n",
    "        if cbar_ticks is not None:\n",
    "            cbar.set_ticks(cbar_ticks)\n",
    "        \n",
    "        if cbar_ticklabels is not None:\n",
    "            cbar.ax.set_yticklabels(cbar_ticklabels)\n",
    "    \n",
    "    plt.show()"
   ]
  },
  {
   "cell_type": "code",
   "execution_count": 5,
   "metadata": {},
   "outputs": [],
   "source": [
    "# Function to get the sum of values within each country and return as a pandas Series\n",
    "def sum_within_country(data, countries):\n",
    "    \"\"\"Calculate the sum of values within each country's boundaries.\n",
    "    \n",
    "    Parameters:\n",
    "        data (xarray.DataArray): Grid data to sum within country boundaries\n",
    "        countries (list): List of country geometries\n",
    "        \n",
    "    Returns:\n",
    "        pandas.Series: Series with country names as index and summed values\n",
    "    \"\"\"\n",
    "    temp_data = data.copy()\n",
    "    country_sums = []\n",
    "    country_names = []\n",
    "    \n",
    "    # Get country info from shapefile\n",
    "    shapefile = shpreader.natural_earth(resolution='110m', category='cultural', name='admin_0_countries')\n",
    "    reader = shpreader.Reader(shapefile)\n",
    "    country_info = list(reader.records())\n",
    "    \n",
    "    # Assuming data is an xarray.DataArray with 'lat' and 'lon' as coordinates\n",
    "    lats = temp_data.coords['lat'].values\n",
    "    lons = temp_data.coords['lon'].values\n",
    "    \n",
    "    for country, country_attr in zip(countries, country_info):\n",
    "        clist = []\n",
    "        country_name = country_attr.attributes['NAME']  # Get country name from the attributes\n",
    "        country_polygon = shape(country)  # Convert country geometry to a shapely polygon\n",
    "        \n",
    "        # Create a meshgrid for latitude and longitude values\n",
    "        lat_idx, lon_idx = np.meshgrid(lats, lons, indexing=\"ij\")\n",
    "        \n",
    "        # Create an array of points\n",
    "        points = np.array([Point(lon, lat) for lat, lon in zip(lat_idx.ravel(), lon_idx.ravel())])\n",
    "        \n",
    "        # Check which points are within the country's polygon\n",
    "        inside_country = np.array([country_polygon.contains(point) for point in points])\n",
    "        \n",
    "        # Get the data values corresponding to the points inside the country\n",
    "        inside_values = data.values.ravel()[inside_country]\n",
    "        \n",
    "        # Sum the values within the country\n",
    "        country_sum = np.nansum(inside_values)\n",
    "        \n",
    "        # Append the country name and its corresponding sum to the lists\n",
    "        country_sums.append(country_sum)\n",
    "        country_names.append(country_name)\n",
    "    \n",
    "    # Return a pandas Series with the country name as the index and sum as the values\n",
    "    return pd.Series(country_sums, index=country_names, name='Smoke Deaths')"
   ]
  },
  {
   "cell_type": "code",
   "execution_count": 6,
   "metadata": {},
   "outputs": [],
   "source": [
    "def mortality(pm25, b=None, population=None):\n",
    "    \"\"\"Calculate mortality based on PM2.5 concentration, death rate, and population.\n",
    "    \n",
    "    Parameters:\n",
    "        pm25 (xarray.DataArray): PM2.5 concentration\n",
    "        b (xarray.DataArray): Death rate (per person)\n",
    "        population (xarray.DataArray): Population count\n",
    "        \n",
    "    Returns:\n",
    "        xarray.DataArray: Calculated mortality\n",
    "    \"\"\"\n",
    "    temp_ds = b * (1-np.exp(-1.1 * (pm25))) * population\n",
    "    temp_ds['lon'] = temp_ds['lon']\n",
    "    return temp_ds"
   ]
  },
  {
   "cell_type": "markdown",
   "metadata": {},
   "source": [
    "## Load Data\n",
    "\n",
    "Load PM2.5 concentration data, death rates, and population projections."
   ]
  },
  {
   "cell_type": "code",
   "execution_count": 7,
   "metadata": {},
   "outputs": [
    {
     "name": "stdout",
     "output_type": "stream",
     "text": [
      "Successfully loaded PM2.5 data for 2050\n",
      "Successfully loaded PM2.5 data for 2100\n"
     ]
    },
    {
     "name": "stderr",
     "output_type": "stream",
     "text": [
      "/var/folders/g9/z04gd5q11kv9sb76x89g7zym0000gp/T/ipykernel_3053/2969152750.py:24: DeprecationWarning: dropping variables using `drop` is deprecated; use drop_vars.\n",
      "  .drop(lon_name))\n",
      "/var/folders/g9/z04gd5q11kv9sb76x89g7zym0000gp/T/ipykernel_3053/2969152750.py:24: DeprecationWarning: dropping variables using `drop` is deprecated; use drop_vars.\n",
      "  .drop(lon_name))\n",
      "/var/folders/g9/z04gd5q11kv9sb76x89g7zym0000gp/T/ipykernel_3053/2969152750.py:24: DeprecationWarning: dropping variables using `drop` is deprecated; use drop_vars.\n",
      "  .drop(lon_name))\n",
      "/var/folders/g9/z04gd5q11kv9sb76x89g7zym0000gp/T/ipykernel_3053/2969152750.py:24: DeprecationWarning: dropping variables using `drop` is deprecated; use drop_vars.\n",
      "  .drop(lon_name))\n"
     ]
    }
   ],
   "source": [
    "# Load PM2.5 data for 2050\n",
    "try:\n",
    "    baseline_pm25_2050 = xr.open_dataset(os.path.join(data_dir, 'CESM_09x125_PM25_2050_RCP85.nc'))['pm25'].mean(axis=0)\n",
    "    nofire_pm25_2050 = xr.open_dataset(os.path.join(data_dir, 'CESM_09x125_PM25_2050_RCP85_NoFire.nc'))['pm25'].mean(axis=0)\n",
    "    baseline_pm25_2050 = fix_lon(baseline_pm25_2050)\n",
    "    nofire_pm25_2050 = fix_lon(nofire_pm25_2050)\n",
    "    print(\"Successfully loaded PM2.5 data for 2050\")\n",
    "except Exception as e:\n",
    "    print(f\"Error loading PM2.5 data for 2050: {e}\")\n",
    "    \n",
    "# Load PM2.5 data for 2100\n",
    "try:\n",
    "    baseline_pm25_2100 = xr.open_dataset(os.path.join(data_dir, 'CESM_09x125_PM25_2100_RCP85.nc'))['pm25'].mean(axis=0)\n",
    "    nofire_pm25_2100 = xr.open_dataset(os.path.join(data_dir, 'CESM_09x125_PM25_2100_RCP85_NoFire.nc'))['pm25'].mean(axis=0)\n",
    "    baseline_pm25_2100 = fix_lon(baseline_pm25_2100)\n",
    "    nofire_pm25_2100 = fix_lon(nofire_pm25_2100)\n",
    "    print(\"Successfully loaded PM2.5 data for 2100\")\n",
    "except Exception as e:\n",
    "    print(f\"Error loading PM2.5 data for 2100: {e}\")\n",
    "    baseline_pm25_2100 = None\n",
    "    nofire_pm25_2100 = None"
   ]
  },
  {
   "cell_type": "code",
   "execution_count": 8,
   "metadata": {},
   "outputs": [
    {
     "name": "stderr",
     "output_type": "stream",
     "text": [
      "/var/folders/g9/z04gd5q11kv9sb76x89g7zym0000gp/T/ipykernel_3053/2969152750.py:24: DeprecationWarning: dropping variables using `drop` is deprecated; use drop_vars.\n",
      "  .drop(lon_name))\n"
     ]
    },
    {
     "name": "stdout",
     "output_type": "stream",
     "text": [
      "Successfully loaded PM2.5 data for 2000\n"
     ]
    },
    {
     "name": "stderr",
     "output_type": "stream",
     "text": [
      "/var/folders/g9/z04gd5q11kv9sb76x89g7zym0000gp/T/ipykernel_3053/2969152750.py:24: DeprecationWarning: dropping variables using `drop` is deprecated; use drop_vars.\n",
      "  .drop(lon_name))\n"
     ]
    }
   ],
   "source": [
    "# Load PM2.5 data for 2000\n",
    "try:\n",
    "    baseline_pm25_2000 = xr.open_dataset(os.path.join(data_dir, 'CESM_09x125_PM25_2000_Baseline.nc'))['pm25'].mean(axis=0)\n",
    "    nofire_pm25_2000 = xr.open_dataset(os.path.join(data_dir, 'CESM_09x125_PM25_2000_Baseline_nofire.nc'))['pm25'].mean(axis=0)\n",
    "    baseline_pm25_2000 = fix_lon(baseline_pm25_2000)\n",
    "    nofire_pm25_2000 = fix_lon(nofire_pm25_2000)\n",
    "    print(\"Successfully loaded PM2.5 data for 2000\")\n",
    "except Exception as e:\n",
    "    print(f\"Error loading PM2.5 data for 2000: {e}\")"
   ]
  },
  {
   "cell_type": "code",
   "execution_count": 9,
   "metadata": {},
   "outputs": [
    {
     "name": "stderr",
     "output_type": "stream",
     "text": [
      "/var/folders/g9/z04gd5q11kv9sb76x89g7zym0000gp/T/ipykernel_3053/2969152750.py:24: DeprecationWarning: dropping variables using `drop` is deprecated; use drop_vars.\n",
      "  .drop(lon_name))\n",
      "/var/folders/g9/z04gd5q11kv9sb76x89g7zym0000gp/T/ipykernel_3053/2969152750.py:24: DeprecationWarning: dropping variables using `drop` is deprecated; use drop_vars.\n",
      "  .drop(lon_name))\n",
      "/var/folders/g9/z04gd5q11kv9sb76x89g7zym0000gp/T/ipykernel_3053/2969152750.py:24: DeprecationWarning: dropping variables using `drop` is deprecated; use drop_vars.\n",
      "  .drop(lon_name))\n"
     ]
    },
    {
     "name": "stdout",
     "output_type": "stream",
     "text": [
      "Successfully loaded death rate and population data for 2000, 2050, and 2100\n"
     ]
    },
    {
     "name": "stderr",
     "output_type": "stream",
     "text": [
      "/var/folders/g9/z04gd5q11kv9sb76x89g7zym0000gp/T/ipykernel_3053/2969152750.py:24: DeprecationWarning: dropping variables using `drop` is deprecated; use drop_vars.\n",
      "  .drop(lon_name))\n"
     ]
    }
   ],
   "source": [
    "# Load death rate and population data\n",
    "try:\n",
    "    death_rate = xr.open_dataset(os.path.join(data_dir, 'death_rate.nc'))['death_rate']/1000  # Convert to per person\n",
    "    \n",
    "    # Load population data for different years\n",
    "    population_2000 = xr.open_dataset(os.path.join(data_dir, 'ssp2_2000_matching.nc'))['2000total']\n",
    "    population_2050 = xr.open_dataset(os.path.join(data_dir, 'ssp2_2050_matching.nc'))['ssp2_2050']\n",
    "    population_2100 = xr.open_dataset(os.path.join(data_dir, 'ssp2_2100_matching.nc'))['ssp2_2100']\n",
    "    \n",
    "    # Fix longitude coordinates\n",
    "    death_rate = fix_lon(death_rate)\n",
    "    population_2000 = fix_lon(population_2000)\n",
    "    population_2050 = fix_lon(population_2050)\n",
    "    population_2100 = fix_lon(population_2100)\n",
    "    \n",
    "    # Align coordinates with PM2.5 data\n",
    "    death_rate['lat'] = baseline_pm25_2050['lat']\n",
    "    death_rate['lon'] = baseline_pm25_2050['lon']\n",
    "    \n",
    "    for pop in [population_2000, population_2050, population_2100]:\n",
    "        pop['lat'] = baseline_pm25_2050['lat']\n",
    "        pop['lon'] = baseline_pm25_2050['lon']\n",
    "    \n",
    "    print(\"Successfully loaded death rate and population data for 2000, 2050, and 2100\")\n",
    "except Exception as e:\n",
    "    print(f\"Error loading death rate and population data: {e}\")"
   ]
  },
  {
   "cell_type": "markdown",
   "metadata": {},
   "source": [
    "## Calculate Mortality\n",
    "\n",
    "Calculate mortality based on PM2.5 concentrations, death rates, and population."
   ]
  },
  {
   "cell_type": "code",
   "execution_count": 10,
   "metadata": {},
   "outputs": [
    {
     "name": "stdout",
     "output_type": "stream",
     "text": [
      "Calculated mortality for 2050 scenarios using 2050 population\n"
     ]
    }
   ],
   "source": [
    "# Calculate mortality for 2050 using actual 2050 population\n",
    "baseline_mortality_2050 = mortality(baseline_pm25_2050, b=death_rate, population=population_2050)\n",
    "nofire_mortality_2050 = mortality(nofire_pm25_2050, b=death_rate, population=population_2050)\n",
    "difference_mortality_2050 = baseline_mortality_2050 - nofire_mortality_2050\n",
    "\n",
    "print(\"Calculated mortality for 2050 scenarios using 2050 population\")"
   ]
  },
  {
   "cell_type": "code",
   "execution_count": 11,
   "metadata": {},
   "outputs": [
    {
     "name": "stdout",
     "output_type": "stream",
     "text": [
      "Calculated mortality for 2000 scenarios using 2000 population\n",
      "Calculated mortality for 2100 scenarios using 2100 population\n"
     ]
    }
   ],
   "source": [
    "# Calculate mortality for 2000 using actual 2000 population\n",
    "baseline_mortality_2000 = mortality(baseline_pm25_2000, b=death_rate, population=population_2000)\n",
    "nofire_mortality_2000 = mortality(nofire_pm25_2000, b=death_rate, population=population_2000)\n",
    "difference_mortality_2000 = baseline_mortality_2000 - nofire_mortality_2000\n",
    "\n",
    "print(\"Calculated mortality for 2000 scenarios using 2000 population\")\n",
    "\n",
    "# Calculate mortality for 2100 if data is available\n",
    "if baseline_pm25_2100 is not None and nofire_pm25_2100 is not None:\n",
    "    baseline_mortality_2100 = mortality(baseline_pm25_2100, b=death_rate, population=population_2100)\n",
    "    nofire_mortality_2100 = mortality(nofire_pm25_2100, b=death_rate, population=population_2100)\n",
    "    difference_mortality_2100 = baseline_mortality_2100 - nofire_mortality_2100\n",
    "    \n",
    "    print(\"Calculated mortality for 2100 scenarios using 2100 population\")\n",
    "else:\n",
    "    baseline_mortality_2100 = None\n",
    "    nofire_mortality_2100 = None\n",
    "    difference_mortality_2100 = None"
   ]
  },
  {
   "cell_type": "markdown",
   "metadata": {},
   "source": [
    "## Aggregate by Country\n",
    "\n",
    "Sum mortality values within each country's boundaries."
   ]
  },
  {
   "cell_type": "code",
   "execution_count": 12,
   "metadata": {},
   "outputs": [
    {
     "name": "stdout",
     "output_type": "stream",
     "text": [
      "Successfully loaded country boundaries from Natural Earth\n"
     ]
    }
   ],
   "source": [
    "# Load countries shapefile\n",
    "try:\n",
    "    shapefile = shpreader.natural_earth(resolution='110m', category='cultural', name='admin_0_countries')\n",
    "    reader = shpreader.Reader(shapefile)\n",
    "    countries = list(reader.geometries())\n",
    "    country_info = list(reader.records())\n",
    "    print(f\"Successfully loaded country boundaries from Natural Earth\")\n",
    "except Exception as e:\n",
    "    print(f\"Error loading country boundaries: {e}\")"
   ]
  },
  {
   "cell_type": "code",
   "execution_count": 13,
   "metadata": {},
   "outputs": [
    {
     "name": "stdout",
     "output_type": "stream",
     "text": [
      "Saved 2050 mortality results to CSV files\n"
     ]
    }
   ],
   "source": [
    "# Calculate country-level mortality for 2050\n",
    "baseline_sums_2050 = sum_within_country(baseline_mortality_2050, countries)\n",
    "nofire_sums_2050 = sum_within_country(nofire_mortality_2050, countries)\n",
    "difference_sums_2050 = sum_within_country(difference_mortality_2050, countries)\n",
    "\n",
    "# Save results to CSV\n",
    "output_dir = os.path.join(data_dir, 'results')\n",
    "os.makedirs(output_dir, exist_ok=True)\n",
    "\n",
    "baseline_sums_2050.to_csv(os.path.join(output_dir, 'total_smoke_deaths.csv'))\n",
    "nofire_sums_2050.to_csv(os.path.join(output_dir, 'nofire_smoke_deaths.csv'))\n",
    "difference_sums_2050.to_csv(os.path.join(output_dir, 'fire_smoke_deaths.csv'))\n",
    "\n",
    "print(\"Saved 2050 mortality results to CSV files\")"
   ]
  },
  {
   "cell_type": "code",
   "execution_count": 14,
   "metadata": {},
   "outputs": [
    {
     "name": "stdout",
     "output_type": "stream",
     "text": [
      "Saved 2000 mortality results and 2000-2050 changes to CSV files\n",
      "Saved 2100 mortality results and changes to CSV files\n"
     ]
    }
   ],
   "source": [
    "# Calculate country-level mortality for 2000\n",
    "baseline_sums_2000 = sum_within_country(baseline_mortality_2000, countries)\n",
    "nofire_sums_2000 = sum_within_country(nofire_mortality_2000, countries)\n",
    "difference_sums_2000 = sum_within_country(difference_mortality_2000, countries)\n",
    "\n",
    "# Save results to CSV\n",
    "baseline_sums_2000.to_csv(os.path.join(output_dir, 'total_smoke_deaths_2000.csv'))\n",
    "nofire_sums_2000.to_csv(os.path.join(output_dir, 'nofire_smoke_deaths_2000.csv'))\n",
    "difference_sums_2000.to_csv(os.path.join(output_dir, 'fire_smoke_deaths_2000.csv'))\n",
    "\n",
    "# Calculate change from 2000 to 2050\n",
    "change_2000_2050 = difference_sums_2050 - difference_sums_2000\n",
    "change_2000_2050.to_csv(os.path.join(output_dir, 'fire_smoke_deaths_change_2000_2050.csv'))\n",
    "\n",
    "print(\"Saved 2000 mortality results and 2000-2050 changes to CSV files\")\n",
    "\n",
    "# Calculate country-level mortality for 2100 if data is available\n",
    "if difference_mortality_2100 is not None:\n",
    "    baseline_sums_2100 = sum_within_country(baseline_mortality_2100, countries)\n",
    "    nofire_sums_2100 = sum_within_country(nofire_mortality_2100, countries)\n",
    "    difference_sums_2100 = sum_within_country(difference_mortality_2100, countries)\n",
    "    \n",
    "    # Save 2100 results to CSV\n",
    "    baseline_sums_2100.to_csv(os.path.join(output_dir, 'total_smoke_deaths_2100.csv'))\n",
    "    nofire_sums_2100.to_csv(os.path.join(output_dir, 'nofire_smoke_deaths_2100.csv'))\n",
    "    difference_sums_2100.to_csv(os.path.join(output_dir, 'fire_smoke_deaths_2100.csv'))\n",
    "    \n",
    "    # Calculate changes between time periods\n",
    "    change_2050_2100 = difference_sums_2100 - difference_sums_2050\n",
    "    change_2000_2100 = difference_sums_2100 - difference_sums_2000\n",
    "    \n",
    "    # Save changes to CSV\n",
    "    change_2050_2100.to_csv(os.path.join(output_dir, 'fire_smoke_deaths_change_2050_2100.csv'))\n",
    "    change_2000_2100.to_csv(os.path.join(output_dir, 'fire_smoke_deaths_change_2000_2100.csv'))\n",
    "    \n",
    "    print(\"Saved 2100 mortality results and changes to CSV files\")"
   ]
  },
  {
   "cell_type": "markdown",
   "metadata": {},
   "source": [
    "## Summary Statistics\n",
    "\n",
    "Display summary statistics for global mortality."
   ]
  },
  {
   "cell_type": "code",
   "execution_count": 15,
   "metadata": {},
   "outputs": [
    {
     "name": "stdout",
     "output_type": "stream",
     "text": [
      "Total mortality in 2050 baseline scenario: 62,499,624\n",
      "Total mortality in 2050 no-fire scenario: 62,191,602\n",
      "Total mortality attributable to fire in 2050: 308,022\n",
      "\n",
      "Total mortality attributable to fire in 2000: 137,055\n",
      "Change in fire-attributable mortality from 2000 to 2050: 170,967\n",
      "\n",
      "Total mortality in 2100 baseline scenario: 61,814,034\n",
      "Total mortality in 2100 no-fire scenario: 61,018,132\n",
      "Total mortality attributable to fire in 2100: 795,902\n",
      "\n",
      "Change in fire-attributable mortality from 2050 to 2100: 487,880\n",
      "Change in fire-attributable mortality from 2000 to 2100: 658,847\n"
     ]
    }
   ],
   "source": [
    "print(f\"Total mortality in 2050 baseline scenario: {baseline_sums_2050.sum():,.0f}\")\n",
    "print(f\"Total mortality in 2050 no-fire scenario: {nofire_sums_2050.sum():,.0f}\")\n",
    "print(f\"Total mortality attributable to fire in 2050: {difference_sums_2050.sum():,.0f}\")\n",
    "\n",
    "print(f\"\\nTotal mortality attributable to fire in 2000: {difference_sums_2000.sum():,.0f}\")\n",
    "print(f\"Change in fire-attributable mortality from 2000 to 2050: {(difference_sums_2050.sum() - difference_sums_2000.sum()):,.0f}\")\n",
    "\n",
    "if difference_mortality_2100 is not None:\n",
    "    print(f\"\\nTotal mortality in 2100 baseline scenario: {baseline_sums_2100.sum():,.0f}\")\n",
    "    print(f\"Total mortality in 2100 no-fire scenario: {nofire_sums_2100.sum():,.0f}\")\n",
    "    print(f\"Total mortality attributable to fire in 2100: {difference_sums_2100.sum():,.0f}\")\n",
    "    \n",
    "    print(f\"\\nChange in fire-attributable mortality from 2050 to 2100: {(difference_sums_2100.sum() - difference_sums_2050.sum()):,.0f}\")\n",
    "    print(f\"Change in fire-attributable mortality from 2000 to 2100: {(difference_sums_2100.sum() - difference_sums_2000.sum()):,.0f}\")"
   ]
  },
  {
   "cell_type": "code",
   "execution_count": 16,
   "metadata": {},
   "outputs": [
    {
     "name": "stdout",
     "output_type": "stream",
     "text": [
      "Total mortality attributable to fire in 2000: 137,055\n"
     ]
    },
    {
     "ename": "NameError",
     "evalue": "name 'difference_sums' is not defined",
     "output_type": "error",
     "traceback": [
      "\u001b[31m---------------------------------------------------------------------------\u001b[39m",
      "\u001b[31mNameError\u001b[39m                                 Traceback (most recent call last)",
      "\u001b[36mCell\u001b[39m\u001b[36m \u001b[39m\u001b[32mIn[16]\u001b[39m\u001b[32m, line 2\u001b[39m\n\u001b[32m      1\u001b[39m \u001b[38;5;28mprint\u001b[39m(\u001b[33mf\u001b[39m\u001b[33m\"\u001b[39m\u001b[33mTotal mortality attributable to fire in 2000: \u001b[39m\u001b[38;5;132;01m{\u001b[39;00mdifference_sums_2000.sum()\u001b[38;5;132;01m:\u001b[39;00m\u001b[33m,.0f\u001b[39m\u001b[38;5;132;01m}\u001b[39;00m\u001b[33m\"\u001b[39m)\n\u001b[32m----> \u001b[39m\u001b[32m2\u001b[39m \u001b[38;5;28mprint\u001b[39m(\u001b[33mf\u001b[39m\u001b[33m\"\u001b[39m\u001b[33mChange in fire-attributable mortality from 2000 to 2050: \u001b[39m\u001b[38;5;132;01m{\u001b[39;00m(\u001b[43mdifference_sums\u001b[49m.sum()\u001b[38;5;250m \u001b[39m-\u001b[38;5;250m \u001b[39mdifference_sums_2000.sum())\u001b[38;5;132;01m:\u001b[39;00m\u001b[33m,.0f\u001b[39m\u001b[38;5;132;01m}\u001b[39;00m\u001b[33m\"\u001b[39m)\n",
      "\u001b[31mNameError\u001b[39m: name 'difference_sums' is not defined"
     ]
    }
   ],
   "source": [
    "print(f\"Total mortality attributable to fire in 2000: {difference_sums_2000.sum():,.0f}\")\n",
    "print(f\"Change in fire-attributable mortality from 2000 to 2050: {(difference_sums.sum() - difference_sums_2000.sum()):,.0f}\")"
   ]
  },
  {
   "cell_type": "markdown",
   "metadata": {},
   "source": [
    "## Visualizations\n",
    "\n",
    "Create maps to visualize PM2.5 concentrations and mortality."
   ]
  },
  {
   "cell_type": "code",
   "execution_count": null,
   "metadata": {},
   "outputs": [],
   "source": [
    "# Visualize baseline PM2.5 concentrations 2050\n",
    "global_pcolormesh_country_borders(baseline_pm25_2050, cbar_label='PM 2.5 Concentration',title='Total PM2.5 Concentration 2050')"
   ]
  },
  {
   "cell_type": "code",
   "execution_count": null,
   "metadata": {},
   "outputs": [],
   "source": [
    "# Visualize fire contribution to PM2.5 2050\n",
    "global_pcolormesh_country_borders(baseline_pm25_2050-nofire_pm25_2050, cbar_label='Fire PM 2.5 Concentration',title='Fire PM2.5 Concentration 2050')"
   ]
  },
  {
   "cell_type": "code",
   "execution_count": null,
   "metadata": {},
   "outputs": [],
   "source": [
    "# Visualize fire contribution to PM2.5 in North America\n",
    "global_pcolormesh_country_borders(\n",
    "    baseline_pm25.loc[25:45,-140:-100]-nofire_pm25.loc[25:45,-140:-100],\n",
    "    cbar_label='Fire PM 2.5 Concentration',\n",
    "    title='Fire Contribution to PM2.5 in Western North America'\n",
    ")"
   ]
  },
  {
   "cell_type": "code",
   "execution_count": null,
   "metadata": {},
   "outputs": [],
   "source": [
    "# Visualize smoke deaths in 2050\n",
    "diff_colors = ('white',\"#fdcfbc\", \"#fc9676\", \"#f7593f\", \"#d21e20\", \"#67000d\")\n",
    "diff_bounds = [0,10,100,500,1000,5000]\n",
    "\n",
    "global_pcolormesh_country_borders(\n",
    "    difference_mortality_2050,\n",
    "    title='Annual Smoke Deaths From Wildfire 2050',\n",
    "    cbar_label='Annual Smoke Deaths',\n",
    "    bounds=diff_bounds,\n",
    "    colors=diff_colors\n",
    ")"
   ]
  },
  {
   "cell_type": "code",
   "execution_count": null,
   "metadata": {},
   "outputs": [],
   "source": [
    "# Visualize smoke deaths in 2000\n",
    "global_pcolormesh_country_borders(\n",
    "    difference_mortality_2000,\n",
    "    title='Annual Smoke Deaths From Wildfire 2000',\n",
    "    cbar_label='Annual Smoke Deaths',\n",
    "    bounds=diff_bounds,\n",
    "    colors=diff_colors\n",
    ")"
   ]
  },
  {
   "cell_type": "code",
   "execution_count": null,
   "metadata": {},
   "outputs": [],
   "source": [
    "# Visualize change in smoke deaths from 2000 to 2050\n",
    "change_colors = ('blue', 'cyan', 'white', 'orange', 'red')\n",
    "change_bounds = [-1000,-100,-10,10,100,1000]\n",
    "\n",
    "global_pcolormesh_country_borders(\n",
    "    difference_mortality_2050-difference_mortality_2000,\n",
    "    title='Change in Annual Smoke Deaths From Wildfire 2000-2050',\n",
    "    cbar_label='Change in Annual Smoke Deaths',\n",
    "    bounds=change_bounds,\n",
    "    colors=change_colors\n",
    ")"
   ]
  },
  {
   "cell_type": "markdown",
   "metadata": {},
   "source": [
    "## Country-Level Analysis\n",
    "\n",
    "Examine the countries most affected by wildfire smoke mortality."
   ]
  },
  {
   "cell_type": "code",
   "execution_count": null,
   "metadata": {},
   "outputs": [],
   "source": [
    "# Top 10 countries with highest smoke deaths in 2050\n",
    "top_countries_2050 = difference_sums_2050.sort_values(ascending=False).head(10)\n",
    "print(\"Top 10 countries with highest smoke deaths in 2050:\")\n",
    "display(top_countries_2050)"
   ]
  },
  {
   "cell_type": "code",
   "execution_count": null,
   "metadata": {},
   "outputs": [],
   "source": [
    "# Top 10 countries with highest increase in smoke deaths from 2000 to 2050\n",
    "change_2000_2050 = difference_sums_2050 - difference_sums_2000\n",
    "top_increase_2000_2050 = change_2000_2050.sort_values(ascending=False).head(10)\n",
    "print(\"Top 10 countries with highest increase in smoke deaths from 2000 to 2050:\")\n",
    "display(top_increase_2000_2050)\n",
    "\n",
    "# If 2100 data is available, show top countries for 2100 and changes\n",
    "if difference_mortality_2100 is not None:\n",
    "    # Top 10 countries with highest smoke deaths in 2100\n",
    "    top_countries_2100 = difference_sums_2100.sort_values(ascending=False).head(10)\n",
    "    print(\"\\nTop 10 countries with highest smoke deaths in 2100:\")\n",
    "    display(top_countries_2100)\n",
    "    \n",
    "    # Top 10 countries with highest increase in smoke deaths from 2050 to 2100\n",
    "    change_2050_2100 = difference_sums_2100 - difference_sums_2050\n",
    "    top_increase_2050_2100 = change_2050_2100.sort_values(ascending=False).head(10)\n",
    "    print(\"\\nTop 10 countries with highest increase in smoke deaths from 2050 to 2100:\")\n",
    "    display(top_increase_2050_2100)"
   ]
  },
  {
   "cell_type": "code",
   "execution_count": null,
   "metadata": {},
   "outputs": [],
   "source": [
    "# Add a new cell for visualizing time series data if 2100 data is available\n",
    "\n",
    "if difference_mortality_2100 is not None:\n",
    "    # Compare 2000, 2050, and 2100 for wildfire PM2.5 concentrations\n",
    "    fig, axes = plt.subplots(1, 3, figsize=(18, 5), subplot_kw={'projection': ccrs.PlateCarree()})\n",
    "    \n",
    "    # Create a consistent colormap\n",
    "    fire_cmap = plt.cm.Reds\n",
    "    vmax = max(\n",
    "        (baseline_pm25_2000-nofire_pm25_2000).max(),\n",
    "        (baseline_pm25_2050-nofire_pm25_2050).max(),\n",
    "        (baseline_pm25_2100-nofire_pm25_2100).max()\n",
    "    )\n",
    "    \n",
    "    # 2000 fire contribution\n",
    "    p1 = (baseline_pm25_2000-nofire_pm25_2000).plot(\n",
    "        ax=axes[0],\n",
    "        transform=ccrs.PlateCarree(),\n",
    "        cmap=fire_cmap,\n",
    "        vmin=0,\n",
    "        vmax=vmax,\n",
    "        add_colorbar=False\n",
    "    )\n",
    "    \n",
    "    # 2050 fire contribution\n",
    "    p2 = (baseline_pm25_2050-nofire_pm25_2050).plot(\n",
    "        ax=axes[1],\n",
    "        transform=ccrs.PlateCarree(),\n",
    "        cmap=fire_cmap,\n",
    "        vmin=0,\n",
    "        vmax=vmax,\n",
    "        add_colorbar=False\n",
    "    )\n",
    "    \n",
    "    # 2100 fire contribution\n",
    "    p3 = (baseline_pm25_2100-nofire_pm25_2100).plot(\n",
    "        ax=axes[2],\n",
    "        transform=ccrs.PlateCarree(),\n",
    "        cmap=fire_cmap,\n",
    "        vmin=0,\n",
    "        vmax=vmax,\n",
    "        add_colorbar=False\n",
    "    )\n",
    "    \n",
    "    # Add features to all maps\n",
    "    for ax, year in zip(axes, [\"2000\", \"2050\", \"2100\"]):\n",
    "        ax.coastlines()\n",
    "        ax.add_feature(cfeature.BORDERS, linestyle='-', edgecolor='black', linewidth=0.5)\n",
    "        ax.set_title(f\"Wildfire PM2.5 Contribution - {year}\")\n",
    "    \n",
    "    # Add a common colorbar\n",
    "    fig.subplots_adjust(right=0.9)\n",
    "    cbar_ax = fig.add_axes([0.92, 0.15, 0.02, 0.7])\n",
    "    cbar = fig.colorbar(p3, cax=cbar_ax)\n",
    "    cbar.set_label('Wildfire PM2.5 Contribution (μg/m³)', fontweight='bold')\n",
    "    \n",
    "    plt.tight_layout(rect=[0, 0, 0.9, 1])\n",
    "    plt.show()\n",
    "    \n",
    "    # Create a timeline plot showing global smoke deaths\n",
    "    global_deaths = [\n",
    "        difference_sums_2000.sum(),\n",
    "        difference_sums_2050.sum(),\n",
    "        difference_sums_2100.sum()\n",
    "    ]\n",
    "    \n",
    "    plt.figure(figsize=(10, 6))\n",
    "    plt.plot(['2000', '2050', '2100'], global_deaths, marker='o', linestyle='-', linewidth=2)\n",
    "    \n",
    "    # Add value labels\n",
    "    for i, value in enumerate(global_deaths):\n",
    "        plt.text(['2000', '2050', '2100'][i], value + 5000, f\"{value:,.0f}\", \n",
    "                 ha='center', va='bottom', fontweight='bold')\n",
    "    \n",
    "    plt.title('Global Wildfire-Related Mortality Over Time', fontsize=14, fontweight='bold')\n",
    "    plt.ylabel('Annual Deaths', fontsize=12)\n",
    "    plt.grid(True, linestyle='--', alpha=0.7)\n",
    "    \n",
    "    # Calculate and show percent changes\n",
    "    pct_change_2000_2050 = (global_deaths[1] - global_deaths[0]) / global_deaths[0] * 100\n",
    "    pct_change_2050_2100 = (global_deaths[2] - global_deaths[1]) / global_deaths[1] * 100\n",
    "    \n",
    "    plt.annotate(f\"+{pct_change_2000_2050:.1f}%\", \n",
    "                 xy=(0.5, (global_deaths[0] + global_deaths[1])/2),\n",
    "                 xytext=(0.3, (global_deaths[0] + global_deaths[1])/2 + 20000),\n",
    "                 arrowprops=dict(arrowstyle='->'),\n",
    "                 fontsize=10, fontweight='bold')\n",
    "    \n",
    "    plt.annotate(f\"+{pct_change_2050_2100:.1f}%\", \n",
    "                 xy=(1.5, (global_deaths[1] + global_deaths[2])/2),\n",
    "                 xytext=(1.3, (global_deaths[1] + global_deaths[2])/2 + 20000),\n",
    "                 arrowprops=dict(arrowstyle='->'),\n",
    "                 fontsize=10, fontweight='bold')\n",
    "    \n",
    "    plt.tight_layout()\n",
    "    plt.show()"
   ]
  }
 ],
 "metadata": {
  "kernelspec": {
   "display_name": "risk",
   "language": "python",
   "name": "python3"
  },
  "language_info": {
   "codemirror_mode": {
    "name": "ipython",
    "version": 3
   },
   "file_extension": ".py",
   "mimetype": "text/x-python",
   "name": "python",
   "nbconvert_exporter": "python",
   "pygments_lexer": "ipython3",
   "version": "3.13.2"
  }
 },
 "nbformat": 4,
 "nbformat_minor": 4
}
